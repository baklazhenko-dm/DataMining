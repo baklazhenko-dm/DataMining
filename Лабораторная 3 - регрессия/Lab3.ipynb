{
 "cells": [
  {
   "cell_type": "markdown",
   "source": [
    "### 100,000 UK Used Car Data set\\n\n",
    "https://www.kaggle.com/adityadesai13/used-car-dataset-ford-and-mercedes\n",
    "1. Выбрать набор данных для своей группы: <br>\n",
    "3530203_70101: Audi <br>\n",
    "3530203_70102: BMW <br>\n",
    "3530903_70301: Ford <br>\n",
    "3530903_70302: Mercedes<br>\n",
    "2. Разбить данные на тренировочные и тестовые (70% на 30%, random_state=10).\n",
    "3. Попытаться обучить регрессии c лучшим качеством."
   ],
   "metadata": {
    "collapsed": false
   }
  },
  {
   "cell_type": "code",
   "execution_count": 361,
   "outputs": [],
   "source": [
    "import pandas as pd\n",
    "import numpy as np\n",
    "from sklearn.model_selection import train_test_split\n",
    "from sklearn.linear_model import LinearRegression\n",
    "from sklearn.preprocessing import LabelEncoder, MinMaxScaler"
   ],
   "metadata": {
    "collapsed": false,
    "pycharm": {
     "name": "#%%\n"
    }
   }
  },
  {
   "cell_type": "code",
   "execution_count": 362,
   "outputs": [
    {
     "data": {
      "text/plain": "           model  year  price transmission  mileage fuelType  tax   mpg  \\\n0       5 Series  2014  11200    Automatic    67068   Diesel  125  57.6   \n1       6 Series  2018  27000    Automatic    14827   Petrol  145  42.8   \n2       5 Series  2016  16000    Automatic    62794   Diesel  160  51.4   \n3       1 Series  2017  12750    Automatic    26676   Diesel  145  72.4   \n4       7 Series  2014  14500    Automatic    39554   Diesel  160  50.4   \n...          ...   ...    ...          ...      ...      ...  ...   ...   \n10776         X3  2016  19000    Automatic    40818   Diesel  150  54.3   \n10777   5 Series  2016  14600    Automatic    42947   Diesel  125  60.1   \n10778   3 Series  2017  13100       Manual    25468   Petrol  200  42.8   \n10779   1 Series  2014   9930    Automatic    45000   Diesel   30  64.2   \n10780         X1  2017  15981    Automatic    59432   Diesel  125  57.6   \n\n       engineSize  \n0             2.0  \n1             2.0  \n2             3.0  \n3             1.5  \n4             3.0  \n...           ...  \n10776         2.0  \n10777         2.0  \n10778         2.0  \n10779         2.0  \n10780         2.0  \n\n[10781 rows x 9 columns]",
      "text/html": "<div>\n<style scoped>\n    .dataframe tbody tr th:only-of-type {\n        vertical-align: middle;\n    }\n\n    .dataframe tbody tr th {\n        vertical-align: top;\n    }\n\n    .dataframe thead th {\n        text-align: right;\n    }\n</style>\n<table border=\"1\" class=\"dataframe\">\n  <thead>\n    <tr style=\"text-align: right;\">\n      <th></th>\n      <th>model</th>\n      <th>year</th>\n      <th>price</th>\n      <th>transmission</th>\n      <th>mileage</th>\n      <th>fuelType</th>\n      <th>tax</th>\n      <th>mpg</th>\n      <th>engineSize</th>\n    </tr>\n  </thead>\n  <tbody>\n    <tr>\n      <th>0</th>\n      <td>5 Series</td>\n      <td>2014</td>\n      <td>11200</td>\n      <td>Automatic</td>\n      <td>67068</td>\n      <td>Diesel</td>\n      <td>125</td>\n      <td>57.6</td>\n      <td>2.0</td>\n    </tr>\n    <tr>\n      <th>1</th>\n      <td>6 Series</td>\n      <td>2018</td>\n      <td>27000</td>\n      <td>Automatic</td>\n      <td>14827</td>\n      <td>Petrol</td>\n      <td>145</td>\n      <td>42.8</td>\n      <td>2.0</td>\n    </tr>\n    <tr>\n      <th>2</th>\n      <td>5 Series</td>\n      <td>2016</td>\n      <td>16000</td>\n      <td>Automatic</td>\n      <td>62794</td>\n      <td>Diesel</td>\n      <td>160</td>\n      <td>51.4</td>\n      <td>3.0</td>\n    </tr>\n    <tr>\n      <th>3</th>\n      <td>1 Series</td>\n      <td>2017</td>\n      <td>12750</td>\n      <td>Automatic</td>\n      <td>26676</td>\n      <td>Diesel</td>\n      <td>145</td>\n      <td>72.4</td>\n      <td>1.5</td>\n    </tr>\n    <tr>\n      <th>4</th>\n      <td>7 Series</td>\n      <td>2014</td>\n      <td>14500</td>\n      <td>Automatic</td>\n      <td>39554</td>\n      <td>Diesel</td>\n      <td>160</td>\n      <td>50.4</td>\n      <td>3.0</td>\n    </tr>\n    <tr>\n      <th>...</th>\n      <td>...</td>\n      <td>...</td>\n      <td>...</td>\n      <td>...</td>\n      <td>...</td>\n      <td>...</td>\n      <td>...</td>\n      <td>...</td>\n      <td>...</td>\n    </tr>\n    <tr>\n      <th>10776</th>\n      <td>X3</td>\n      <td>2016</td>\n      <td>19000</td>\n      <td>Automatic</td>\n      <td>40818</td>\n      <td>Diesel</td>\n      <td>150</td>\n      <td>54.3</td>\n      <td>2.0</td>\n    </tr>\n    <tr>\n      <th>10777</th>\n      <td>5 Series</td>\n      <td>2016</td>\n      <td>14600</td>\n      <td>Automatic</td>\n      <td>42947</td>\n      <td>Diesel</td>\n      <td>125</td>\n      <td>60.1</td>\n      <td>2.0</td>\n    </tr>\n    <tr>\n      <th>10778</th>\n      <td>3 Series</td>\n      <td>2017</td>\n      <td>13100</td>\n      <td>Manual</td>\n      <td>25468</td>\n      <td>Petrol</td>\n      <td>200</td>\n      <td>42.8</td>\n      <td>2.0</td>\n    </tr>\n    <tr>\n      <th>10779</th>\n      <td>1 Series</td>\n      <td>2014</td>\n      <td>9930</td>\n      <td>Automatic</td>\n      <td>45000</td>\n      <td>Diesel</td>\n      <td>30</td>\n      <td>64.2</td>\n      <td>2.0</td>\n    </tr>\n    <tr>\n      <th>10780</th>\n      <td>X1</td>\n      <td>2017</td>\n      <td>15981</td>\n      <td>Automatic</td>\n      <td>59432</td>\n      <td>Diesel</td>\n      <td>125</td>\n      <td>57.6</td>\n      <td>2.0</td>\n    </tr>\n  </tbody>\n</table>\n<p>10781 rows × 9 columns</p>\n</div>"
     },
     "execution_count": 362,
     "metadata": {},
     "output_type": "execute_result"
    }
   ],
   "source": [
    "auto_data = pd.read_csv(\"bmw.csv\")\n",
    "auto_data"
   ],
   "metadata": {
    "collapsed": false,
    "pycharm": {
     "name": "#%%\n"
    }
   }
  },
  {
   "cell_type": "code",
   "execution_count": 363,
   "outputs": [],
   "source": [
    "Y = auto_data['price']\n",
    "X = auto_data.drop(['price'], axis=1)"
   ],
   "metadata": {
    "collapsed": false,
    "pycharm": {
     "name": "#%%\n"
    }
   }
  },
  {
   "cell_type": "code",
   "source": [
    "model_encoder = LabelEncoder()\n",
    "transmission_encoder = LabelEncoder()\n",
    "fuelType_encoder = LabelEncoder()"
   ],
   "metadata": {
    "collapsed": false,
    "pycharm": {
     "name": "#%%\n"
    }
   },
   "execution_count": 364,
   "outputs": []
  },
  {
   "cell_type": "code",
   "execution_count": 365,
   "outputs": [
    {
     "data": {
      "text/plain": "LabelEncoder()"
     },
     "execution_count": 365,
     "metadata": {},
     "output_type": "execute_result"
    }
   ],
   "source": [
    "model_encoder.fit(X.model)\n",
    "transmission_encoder.fit(X.transmission)\n",
    "fuelType_encoder.fit(X.fuelType)"
   ],
   "metadata": {
    "collapsed": false,
    "pycharm": {
     "name": "#%%\n"
    }
   }
  },
  {
   "cell_type": "code",
   "execution_count": 366,
   "outputs": [
    {
     "data": {
      "text/plain": "       model  year  transmission  mileage  fuelType  tax   mpg  engineSize\n0          4  2014             0    67068         0  125  57.6         2.0\n1          5  2018             0    14827         4  145  42.8         2.0\n2          4  2016             0    62794         0  160  51.4         3.0\n3          0  2017             0    26676         0  145  72.4         1.5\n4          6  2014             0    39554         0  160  50.4         3.0\n...      ...   ...           ...      ...       ...  ...   ...         ...\n10776     15  2016             0    40818         0  150  54.3         2.0\n10777      4  2016             0    42947         0  125  60.1         2.0\n10778      2  2017             1    25468         4  200  42.8         2.0\n10779      0  2014             0    45000         0   30  64.2         2.0\n10780     13  2017             0    59432         0  125  57.6         2.0\n\n[10781 rows x 8 columns]",
      "text/html": "<div>\n<style scoped>\n    .dataframe tbody tr th:only-of-type {\n        vertical-align: middle;\n    }\n\n    .dataframe tbody tr th {\n        vertical-align: top;\n    }\n\n    .dataframe thead th {\n        text-align: right;\n    }\n</style>\n<table border=\"1\" class=\"dataframe\">\n  <thead>\n    <tr style=\"text-align: right;\">\n      <th></th>\n      <th>model</th>\n      <th>year</th>\n      <th>transmission</th>\n      <th>mileage</th>\n      <th>fuelType</th>\n      <th>tax</th>\n      <th>mpg</th>\n      <th>engineSize</th>\n    </tr>\n  </thead>\n  <tbody>\n    <tr>\n      <th>0</th>\n      <td>4</td>\n      <td>2014</td>\n      <td>0</td>\n      <td>67068</td>\n      <td>0</td>\n      <td>125</td>\n      <td>57.6</td>\n      <td>2.0</td>\n    </tr>\n    <tr>\n      <th>1</th>\n      <td>5</td>\n      <td>2018</td>\n      <td>0</td>\n      <td>14827</td>\n      <td>4</td>\n      <td>145</td>\n      <td>42.8</td>\n      <td>2.0</td>\n    </tr>\n    <tr>\n      <th>2</th>\n      <td>4</td>\n      <td>2016</td>\n      <td>0</td>\n      <td>62794</td>\n      <td>0</td>\n      <td>160</td>\n      <td>51.4</td>\n      <td>3.0</td>\n    </tr>\n    <tr>\n      <th>3</th>\n      <td>0</td>\n      <td>2017</td>\n      <td>0</td>\n      <td>26676</td>\n      <td>0</td>\n      <td>145</td>\n      <td>72.4</td>\n      <td>1.5</td>\n    </tr>\n    <tr>\n      <th>4</th>\n      <td>6</td>\n      <td>2014</td>\n      <td>0</td>\n      <td>39554</td>\n      <td>0</td>\n      <td>160</td>\n      <td>50.4</td>\n      <td>3.0</td>\n    </tr>\n    <tr>\n      <th>...</th>\n      <td>...</td>\n      <td>...</td>\n      <td>...</td>\n      <td>...</td>\n      <td>...</td>\n      <td>...</td>\n      <td>...</td>\n      <td>...</td>\n    </tr>\n    <tr>\n      <th>10776</th>\n      <td>15</td>\n      <td>2016</td>\n      <td>0</td>\n      <td>40818</td>\n      <td>0</td>\n      <td>150</td>\n      <td>54.3</td>\n      <td>2.0</td>\n    </tr>\n    <tr>\n      <th>10777</th>\n      <td>4</td>\n      <td>2016</td>\n      <td>0</td>\n      <td>42947</td>\n      <td>0</td>\n      <td>125</td>\n      <td>60.1</td>\n      <td>2.0</td>\n    </tr>\n    <tr>\n      <th>10778</th>\n      <td>2</td>\n      <td>2017</td>\n      <td>1</td>\n      <td>25468</td>\n      <td>4</td>\n      <td>200</td>\n      <td>42.8</td>\n      <td>2.0</td>\n    </tr>\n    <tr>\n      <th>10779</th>\n      <td>0</td>\n      <td>2014</td>\n      <td>0</td>\n      <td>45000</td>\n      <td>0</td>\n      <td>30</td>\n      <td>64.2</td>\n      <td>2.0</td>\n    </tr>\n    <tr>\n      <th>10780</th>\n      <td>13</td>\n      <td>2017</td>\n      <td>0</td>\n      <td>59432</td>\n      <td>0</td>\n      <td>125</td>\n      <td>57.6</td>\n      <td>2.0</td>\n    </tr>\n  </tbody>\n</table>\n<p>10781 rows × 8 columns</p>\n</div>"
     },
     "execution_count": 366,
     "metadata": {},
     "output_type": "execute_result"
    }
   ],
   "source": [
    "X.model = model_encoder.transform(X.model)\n",
    "X.transmission = transmission_encoder.transform(X.transmission)\n",
    "X.fuelType = fuelType_encoder.transform(X.fuelType)\n",
    "X"
   ],
   "metadata": {
    "collapsed": false,
    "pycharm": {
     "name": "#%%\n"
    }
   }
  },
  {
   "cell_type": "code",
   "execution_count": 367,
   "outputs": [
    {
     "data": {
      "text/plain": "((7546, 8), (3235, 8))"
     },
     "execution_count": 367,
     "metadata": {},
     "output_type": "execute_result"
    }
   ],
   "source": [
    "X_train, X_test, Y_train, Y_test = train_test_split(X, Y, test_size=0.3, random_state=10)\n",
    "X_train.shape, X_test.shape"
   ],
   "metadata": {
    "collapsed": false,
    "pycharm": {
     "name": "#%%\n"
    }
   }
  },
  {
   "cell_type": "code",
   "execution_count": 368,
   "outputs": [
    {
     "data": {
      "text/plain": "0.7448806905136817"
     },
     "execution_count": 368,
     "metadata": {},
     "output_type": "execute_result"
    }
   ],
   "source": [
    "reg = LinearRegression()\n",
    "reg.fit(X_train, Y_train)\n",
    "reg.score(X_test, Y_test)"
   ],
   "metadata": {
    "collapsed": false,
    "pycharm": {
     "name": "#%%\n"
    }
   }
  },
  {
   "cell_type": "code",
   "execution_count": 369,
   "outputs": [
    {
     "data": {
      "text/plain": "count     3235.000000\nmean      3910.145345\nstd       4136.330856\nmin          0.108774\n25%       1269.510293\n50%       2861.609378\n75%       5244.307076\nmax      53561.403782\nName: price, dtype: float64"
     },
     "execution_count": 369,
     "metadata": {},
     "output_type": "execute_result"
    }
   ],
   "source": [
    "prediction = reg.predict(X_test)\n",
    "(Y_test - prediction).abs().describe()"
   ],
   "metadata": {
    "collapsed": false,
    "pycharm": {
     "name": "#%%\n"
    }
   }
  }
 ],
 "metadata": {
  "kernelspec": {
   "display_name": "Python 3",
   "language": "python",
   "name": "python3"
  },
  "language_info": {
   "codemirror_mode": {
    "name": "ipython",
    "version": 2
   },
   "file_extension": ".py",
   "mimetype": "text/x-python",
   "name": "python",
   "nbconvert_exporter": "python",
   "pygments_lexer": "ipython2",
   "version": "2.7.6"
  }
 },
 "nbformat": 4,
 "nbformat_minor": 0
}