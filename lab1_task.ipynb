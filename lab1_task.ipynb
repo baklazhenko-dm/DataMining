{
 "cells": [
  {
   "cell_type": "markdown",
   "metadata": {},
   "source": [
    "# Лабараторная №1. Основый предобработки данных "
   ]
  },
  {
   "cell_type": "markdown",
   "metadata": {},
   "source": [
    "Используйте файл своей группы. <br>\n",
    "Загрузите его в DataFrame и ответьте на вопросы, используя инстурменты из файла preprocessing.ipynb.\n",
    "\n",
    "\n",
    "#### Воспросы\n",
    "1. В какой шкале представлены все признаки в наборе?<br>\n",
    "2. Укажите признак с наименьшей дисперсией.<br>\n",
    "3. Среднее какого признака отличается для двух классов сильнее всего?<br>\n",
    "4. В каком классе больше всего skilled работников?<br>\n",
    "5. Есть ли в наборе признаки с выбросами? Какие?<br>\n",
    "6. Сколько пропущенных значений в наборе?<br>\n",
    "7. Попытайтесь заполнить пропущенные значения.<br>\n",
    "8. Как минимум для одного признака каждого типа постройте диаграмму, которая может помочь его исследовать.<br>\n",
    "9. Проанализируйте взаимосвязи признаков с помощью scatter-plot матрицы и тепловой карты корреляций. Какие выводы можно сделать?<br>\n",
    "10. Какой признак(и) имеет смысл стандартизировать? Почему?<br>\n",
    "11. Придумайте 1 новый признак, попытайтесь объяснить, почему он информативный.<br>"
   ]
  },
  {
   "cell_type": "code",
   "execution_count": null,
   "metadata": {},
   "outputs": [],
   "source": [
    "import numpy as np\n",
    "import pandas as pd\n",
    "\n",
    "import matplotlib.pyplot as plt\n",
    "\n",
    "import seaborn as sns\n",
    "\n",
    "from sklearn import datasets\n",
    "from sklearn.preprocessing import MinMaxScaler\n",
    "from sklearn.preprocessing import StandardScaler\n",
    "\n",
    "np.set_printoptions(precision=3)\n",
    "pd.set_option('precision', 3)\n",
    "\n",
    "sns.set()"
   ]
  },
  {
   "cell_type": "code",
   "execution_count": null,
   "metadata": {},
   "outputs": [],
   "source": [
    "path=''\n",
    "credit_df = pd.read_csv(path, index_col=0)"
   ]
  },
  {
   "cell_type": "code",
   "execution_count": null,
   "metadata": {},
   "outputs": [],
   "source": []
  }
 ],
 "metadata": {
  "kernelspec": {
   "display_name": "Python 3",
   "language": "python",
   "name": "python3"
  },
  "language_info": {
   "codemirror_mode": {
    "name": "ipython",
    "version": 3
   },
   "file_extension": ".py",
   "mimetype": "text/x-python",
   "name": "python",
   "nbconvert_exporter": "python",
   "pygments_lexer": "ipython3",
   "version": "3.8.1"
  }
 },
 "nbformat": 4,
 "nbformat_minor": 4
}
